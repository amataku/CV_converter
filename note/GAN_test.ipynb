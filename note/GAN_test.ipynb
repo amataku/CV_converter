{
 "cells": [
  {
   "cell_type": "code",
   "execution_count": 6,
   "metadata": {},
   "outputs": [
    {
     "name": "stdout",
     "output_type": "stream",
     "text": [
      "[  0.         237.24675    240.57799027 ... 177.74144098 177.12354187\n",
      " 177.85948945]\n",
      "[[1.02628879e-06 1.02716315e-06 1.02979459e-06 ... 1.00300298e-11\n",
      "  9.32810758e-12 9.10188146e-12]\n",
      " [3.49510930e-06 3.51815227e-06 3.58280842e-06 ... 3.32550804e-10\n",
      "  3.33930773e-10 3.34382431e-10]\n",
      " [1.68175772e-05 1.68616116e-05 1.69943391e-05 ... 9.30339811e-11\n",
      "  8.58147868e-11 8.33529191e-11]\n",
      " ...\n",
      " [6.46139297e-04 6.46566391e-04 6.47624923e-04 ... 8.52724482e-10\n",
      "  9.57860349e-10 9.95331763e-10]\n",
      " [3.73309012e-04 3.73236817e-04 3.73264052e-04 ... 7.52209196e-11\n",
      "  6.50758183e-11 6.16191006e-11]\n",
      " [9.91760679e-05 9.91957283e-05 9.93368542e-05 ... 9.22824814e-11\n",
      "  8.10316008e-11 7.74228782e-11]]\n",
      "[[1.         1.         1.         ... 1.         1.         1.        ]\n",
      " [0.001      0.00104891 0.0011002  ... 0.99753274 0.99876561 1.        ]\n",
      " [0.001      0.00104866 0.00109969 ... 0.99924205 0.99962095 1.        ]\n",
      " ...\n",
      " [0.001      0.00104942 0.00110128 ... 0.99838981 0.99919458 1.        ]\n",
      " [0.001      0.00105013 0.00110277 ... 0.99860368 0.9993016  1.        ]\n",
      " [0.001      0.001049   0.00110039 ... 0.99839628 0.99919782 1.        ]]\n"
     ]
    }
   ],
   "source": [
    "import librosa\n",
    "import numpy as np\n",
    "import pyworld\n",
    "\n",
    "sound, sr = librosa.load('../voice/seika_voice/001.wav')\n",
    "sound_double = sound.astype(np.float64)\n",
    "\n",
    "# get info\n",
    "f0, ap, sp =  pyworld.wav2world(sound_double, sr)\n",
    "print(f0)\n",
    "print(ap)\n",
    "print(sp)"
   ]
  },
  {
   "cell_type": "markdown",
   "metadata": {},
   "source": [
    "* f0 = 基本周波数\n",
    "* ap = 非周期性\n",
    "* sp = スペクトログラム"
   ]
  },
  {
   "cell_type": "code",
   "execution_count": 8,
   "metadata": {},
   "outputs": [],
   "source": [
    "import librosa\n",
    "import wave\n",
    "import numpy as np\n",
    "import pyworld\n",
    "import pyaudio\n",
    "import soundfile as sf\n",
    "\n",
    "# get sound info\n",
    "sound, sr = librosa.load('../voice/seika_voice/001.wav')\n",
    "sound_double = sound.astype(np.float64)\n",
    "f0, sp, ap =  pyworld.wav2world(sound_double, sr)\n",
    "\n",
    "# synthesize\n",
    "make_sound = pyworld.synthesize(f0, sp, ap, sr, pyworld.default_frame_period)\n",
    "sf.write('aaa.wav', make_sound, sr)"
   ]
  },
  {
   "cell_type": "markdown",
   "metadata": {},
   "source": [
    "## DTWでパラレルデータにしなきゃいけないっぽい"
   ]
  },
  {
   "cell_type": "code",
   "execution_count": 10,
   "metadata": {},
   "outputs": [
    {
     "name": "stdout",
     "output_type": "stream",
     "text": [
      "(318,)\n",
      "(318,)\n"
     ]
    }
   ],
   "source": [
    "import librosa\n",
    "import numpy as np\n",
    "import pyworld\n",
    "import soundfile as sf\n",
    "from numpy.linalg import norm\n",
    "from dtw import dtw\n",
    "\n",
    "# get seika_sound info\n",
    "sound, sr = librosa.load('../voice/seika_voice/001.wav')\n",
    "seika_mfcc = librosa.feature.mfcc(y = sound, sr = sr)\n",
    "#seika_sound_double = sound.astype(np.float64)\n",
    "#f0, sp, ap =  pyworld.wav2world(seika_sound_double, seika_sr)\n",
    "\n",
    "# get hiroshiba_sound info\n",
    "sound, sr = librosa.load('../voice/hiroshiba_voice/001.wav')\n",
    "hiro_mfcc = librosa.feature.mfcc(y = sound, sr = sr)\n",
    "#hiro_sound_double = sound.astype(np.float64)\n",
    "#f0, sp, ap =  pyworld.wav2world(hiro_sound_double, hiro_sr)\n",
    "\n",
    "#DTW\n",
    "dist, cost, acc_cost, path = dtw(seika_mfcc.T, hiro_mfcc.T, dist = lambda x, y: norm(x - y, ord = 1)) \n",
    "seika_conv_mfcc = path[0]\n",
    "hiro_conv_mfcc = path[1]\n",
    "print(seika_conv_mfcc.shape)\n",
    "print(hiro_conv_mfcc.shape)\n",
    "\n",
    "# synthesize\n",
    " #make_sound = pyworld.synthesize(f0, sp, ap, sr, pyworld.default_frame_period)\n",
    " #sf.write('aaa.wav', make_sound, sr)"
   ]
  },
  {
   "cell_type": "markdown",
   "metadata": {},
   "source": [
    "## ISTFT(逆短時間フーリエ変換)をすると音声にできる？"
   ]
  },
  {
   "cell_type": "code",
   "execution_count": null,
   "metadata": {},
   "outputs": [],
   "source": []
  }
 ],
 "metadata": {
  "kernelspec": {
   "display_name": "Python 3",
   "language": "python",
   "name": "python3"
  },
  "language_info": {
   "codemirror_mode": {
    "name": "ipython",
    "version": 3
   },
   "file_extension": ".py",
   "mimetype": "text/x-python",
   "name": "python",
   "nbconvert_exporter": "python",
   "pygments_lexer": "ipython3",
   "version": "3.5.2"
  }
 },
 "nbformat": 4,
 "nbformat_minor": 2
}
