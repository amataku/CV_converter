{
 "cells": [
  {
   "cell_type": "code",
   "execution_count": 6,
   "metadata": {},
   "outputs": [
    {
     "name": "stdout",
     "output_type": "stream",
     "text": [
      "[  0.         237.24675    240.57799027 ... 177.74144098 177.12354187\n",
      " 177.85948945]\n",
      "[[1.02628879e-06 1.02716315e-06 1.02979459e-06 ... 1.00300298e-11\n",
      "  9.32810758e-12 9.10188146e-12]\n",
      " [3.49510930e-06 3.51815227e-06 3.58280842e-06 ... 3.32550804e-10\n",
      "  3.33930773e-10 3.34382431e-10]\n",
      " [1.68175772e-05 1.68616116e-05 1.69943391e-05 ... 9.30339811e-11\n",
      "  8.58147868e-11 8.33529191e-11]\n",
      " ...\n",
      " [6.46139297e-04 6.46566391e-04 6.47624923e-04 ... 8.52724482e-10\n",
      "  9.57860349e-10 9.95331763e-10]\n",
      " [3.73309012e-04 3.73236817e-04 3.73264052e-04 ... 7.52209196e-11\n",
      "  6.50758183e-11 6.16191006e-11]\n",
      " [9.91760679e-05 9.91957283e-05 9.93368542e-05 ... 9.22824814e-11\n",
      "  8.10316008e-11 7.74228782e-11]]\n",
      "[[1.         1.         1.         ... 1.         1.         1.        ]\n",
      " [0.001      0.00104891 0.0011002  ... 0.99753274 0.99876561 1.        ]\n",
      " [0.001      0.00104866 0.00109969 ... 0.99924205 0.99962095 1.        ]\n",
      " ...\n",
      " [0.001      0.00104942 0.00110128 ... 0.99838981 0.99919458 1.        ]\n",
      " [0.001      0.00105013 0.00110277 ... 0.99860368 0.9993016  1.        ]\n",
      " [0.001      0.001049   0.00110039 ... 0.99839628 0.99919782 1.        ]]\n"
     ]
    }
   ],
   "source": [
    "import librosa\n",
    "import numpy as np\n",
    "import pyworld\n",
    "\n",
    "sound, sr = librosa.load('../voice/seika_voice/001.wav')\n",
    "sound_double = sound.astype(np.float64)\n",
    "\n",
    "# get info\n",
    "f0, ap, sp =  pyworld.wav2world(sound_double, sr)\n",
    "print(f0)\n",
    "print(ap)\n",
    "print(sp)"
   ]
  },
  {
   "cell_type": "markdown",
   "metadata": {},
   "source": [
    "* f0 = 基本周波数\n",
    "* ap = 非周期性\n",
    "* sp = スペクトログラム"
   ]
  },
  {
   "cell_type": "code",
   "execution_count": 8,
   "metadata": {},
   "outputs": [],
   "source": [
    "import librosa\n",
    "import wave\n",
    "import numpy as np\n",
    "import pyworld\n",
    "import pyaudio\n",
    "import soundfile as sf\n",
    "\n",
    "# get sound info\n",
    "sound, sr = librosa.load('../voice/seika_voice/001.wav')\n",
    "sound_double = sound.astype(np.float64)\n",
    "f0, sp, ap =  pyworld.wav2world(sound_double, sr)\n",
    "\n",
    "# synthesize\n",
    "make_sound = pyworld.synthesize(f0, sp, ap, sr, pyworld.default_frame_period)\n",
    "sf.write('aaa.wav', make_sound, sr)"
   ]
  },
  {
   "cell_type": "markdown",
   "metadata": {},
   "source": [
    "## DTWでパラレルデータにしなきゃいけないっぽい"
   ]
  },
  {
   "cell_type": "code",
   "execution_count": 26,
   "metadata": {},
   "outputs": [
    {
     "name": "stdout",
     "output_type": "stream",
     "text": [
      "(20, 318)\n",
      "(20, 318)\n"
     ]
    }
   ],
   "source": [
    "import librosa\n",
    "import numpy as np\n",
    "import pyworld\n",
    "import soundfile as sf\n",
    "from numpy.linalg import norm\n",
    "from dtw import dtw\n",
    "\n",
    "# get seika_sound info\n",
    "sound, sr = librosa.load('../voice/seika_voice/001.wav')\n",
    "seika_mfcc = librosa.feature.mfcc(y = sound, sr = sr)\n",
    "#seika_sound_double = sound.astype(np.float64)\n",
    "#f0, sp, ap =  pyworld.wav2world(seika_sound_double, seika_sr)\n",
    "\n",
    "# get hiroshiba_sound info\n",
    "sound, sr = librosa.load('../voice/hiroshiba_voice/001.wav')\n",
    "hiro_mfcc = librosa.feature.mfcc(y = sound, sr = sr)\n",
    "#hiro_sound_double = sound.astype(np.float64)\n",
    "#f0, sp, ap =  pyworld.wav2world(hiro_sound_double, hiro_sr)\n",
    "\n",
    "#DTW\n",
    "dist, cost, acc_cost, path = dtw(seika_mfcc.T, hiro_mfcc.T, dist = lambda x, y: norm(x - y, ord = 1)) \n",
    "seika_conv_mfcc = seika_mfcc.T[path[0]].T\n",
    "hiro_conv_mfcc = hiro_mfcc.T[path[1]].T\n",
    "print(seika_conv_mfcc.shape)\n",
    "print(hiro_conv_mfcc.shape)\n",
    "\n",
    "# synthesize\n",
    " #make_sound = pyworld.synthesize(f0, sp, ap, sr, pyworld.default_frame_period)\n",
    " #sf.write('aaa.wav', make_sound, sr)"
   ]
  },
  {
   "cell_type": "markdown",
   "metadata": {},
   "source": [
    "## ISTFT(逆短時間フーリエ変換)をすると音声にできる？"
   ]
  },
  {
   "cell_type": "code",
   "execution_count": 19,
   "metadata": {},
   "outputs": [
    {
     "name": "stdout",
     "output_type": "stream",
     "text": [
      "(1025, 258)\n",
      "(1025, 258)\n"
     ]
    }
   ],
   "source": [
    "import librosa\n",
    "import numpy as np\n",
    "import pyworld\n",
    "import soundfile as sf\n",
    "from numpy.linalg import norm\n",
    "from dtw import dtw\n",
    "\n",
    "# get wavefile info\n",
    "def get_wave_info(file_name):\n",
    "    sound, sr = librosa.load(file_name)\n",
    "    mfcc = librosa.feature.mfcc(y = sound, sr = sr)\n",
    "    stft = librosa.core.stft(sound)\n",
    "    return sr, mfcc, stft\n",
    "\n",
    "# do DTW\n",
    "def DTW(mfcc_1, mfcc_2):\n",
    "    dist, cost, acc_cost, path = dtw(mfcc_1.T, mfcc_2.T, dist = lambda x, y: norm(x - y, ord = 1))\n",
    "    return path\n",
    "\n",
    "# DTWed stft to sound\n",
    "def stft_to_sound(stft, path):\n",
    "    conv_stft = stft.T[path].T\n",
    "    print(conv_stft.shape)\n",
    "    conv_sound = librosa.core.istft(conv_stft)\n",
    "    return conv_sound\n",
    "\n",
    "# data to wave\n",
    "def make_sound(sound, sr, file_name):\n",
    "    sound_double = sound.astype(np.float64)\n",
    "    f0, sp, ap = pyworld.wav2world(sound_double, sr)\n",
    "    make_sound = pyworld.synthesize(f0, sp, ap, sr, pyworld.default_frame_period)\n",
    "    sf.write(file_name, make_sound, sr)\n",
    "    \n",
    "seika_sr,  seika_mfcc, seika_stft = get_wave_info('../voice/seika_silence/001.wav')\n",
    "hiro_sr,  hiro_mfcc, hiro_stft = get_wave_info('../voice/hiro_silence/001.wav')\n",
    "\n",
    "path = DTW(seika_mfcc, hiro_mfcc)\n",
    "\n",
    "seika_conv_sound = stft_to_sound(seika_stft, path[0])\n",
    "hiro_conv_sound = stft_to_sound(hiro_stft, path[1])\n",
    "\n",
    "make_sound(seika_conv_sound, seika_sr, 'seika001.wav')\n",
    "make_sound(hiro_conv_sound, hiro_sr, 'hiro001.wav')"
   ]
  },
  {
   "cell_type": "markdown",
   "metadata": {},
   "source": [
    "* mfccとstftを対応づけたらできました！"
   ]
  },
  {
   "cell_type": "markdown",
   "metadata": {},
   "source": [
    "## 流石にGANを作ろう"
   ]
  },
  {
   "cell_type": "markdown",
   "metadata": {},
   "source": [
    "## その前にデータ群を作ろう"
   ]
  },
  {
   "cell_type": "code",
   "execution_count": 1,
   "metadata": {},
   "outputs": [],
   "source": [
    "import librosa\n",
    "import numpy as np\n",
    "import pyworld\n",
    "import soundfile as sf\n",
    "from numpy.linalg import norm\n",
    "from dtw import dtw\n",
    "import glob\n",
    "import pickle\n",
    "\n",
    "# get wavefile info\n",
    "def get_wave_info(file_name):\n",
    "    sound, sr = librosa.load(file_name)\n",
    "    mfcc = librosa.feature.mfcc(y = sound, sr = sr)\n",
    "    stft = librosa.core.stft(sound)\n",
    "    return sr, mfcc, stft\n",
    "\n",
    "# do DTW\n",
    "def DTW(mfcc_1, mfcc_2):\n",
    "    dist, cost, acc_cost, path = dtw(mfcc_1.T, mfcc_2.T, dist = lambda x, y: norm(x - y, ord = 1))\n",
    "    return path\n",
    "\n",
    "# stft DTW\n",
    "def DTW_stft(stft, path):\n",
    "    dtw_stft = stft.T[path].T\n",
    "    return dtw_stft\n",
    "\n",
    "# stft to sound\n",
    "def stft_to_sound(stft):\n",
    "    conv_sound = librosa.core.istft(conv_stft)\n",
    "    return conv_sound\n",
    "\n",
    "# data to wave\n",
    "def make_sound(sound, sr, file_name):\n",
    "    sound_double = sound.astype(np.float64)\n",
    "    f0, sp, ap = pyworld.wav2world(sound_double, sr)\n",
    "    make_sound = pyworld.synthesize(f0, sp, ap, sr, pyworld.default_frame_period)\n",
    "    sf.write(file_name, make_sound, sr)\n",
    "    \n",
    "# seika_info\n",
    "seika_mfccs = []\n",
    "seika_stfts = []\n",
    "voices = glob.glob('../voice/seika_silence/*')\n",
    "for voice in voices:\n",
    "    sr, mfcc, stft = get_wave_info(voice)\n",
    "    seika_mfccs.append(mfcc)\n",
    "    seika_stfts.append(stft)\n",
    "\n",
    "# hiro_info\n",
    "hiro_mfccs = []\n",
    "hiro_stfts = []\n",
    "voices = glob.glob('../voice/hiro_silence/*')\n",
    "for voice in voices:\n",
    "    sr, mfcc, stft = get_wave_info(voice)\n",
    "    hiro_mfccs.append(mfcc)\n",
    "    hiro_stfts.append(stft)\n",
    "\n",
    "seika_conv_stfts = []\n",
    "hiro_conv_stfts = []\n",
    "for index in range(90):\n",
    "    path = DTW(seika_mfccs[index], hiro_mfccs[index])\n",
    "    seika_conv_stfts.append(DTW_stft(seika_stfts[index], path[0]))\n",
    "    hiro_conv_stfts.append(DTW_stft(hiro_stfts[index], path[1]))\n",
    "    \n",
    "seika_stft = open('seika_stft.txt', 'wb')\n",
    "pickle.dump(seika_conv_stfts, seika_stft)\n",
    "\n",
    "hiro_stft = open('hiro_stft.txt', 'wb')\n",
    "pickle.dump(hiro_conv_stfts, hiro_stft)"
   ]
  },
  {
   "cell_type": "code",
   "execution_count": 3,
   "metadata": {},
   "outputs": [
    {
     "name": "stdout",
     "output_type": "stream",
     "text": [
      "Downloading data from https://s3.amazonaws.com/img-datasets/mnist.npz\n",
      "11493376/11490434 [==============================] - 413s 36us/step\n",
      "(60000, 28, 28)\n",
      "(60000, 1, 28, 28)\n"
     ]
    }
   ],
   "source": [
    "from keras.datasets import mnist\n",
    "\n",
    "(X_train, y_train), (_, _) = mnist.load_data()\n",
    "print(X_train.shape)\n",
    "X_train = X_train.reshape(X_train.shape[0], 1, X_train.shape[1], X_train.shape[2])\n",
    "print(X_train.shape)"
   ]
  },
  {
   "cell_type": "code",
   "execution_count": null,
   "metadata": {},
   "outputs": [],
   "source": []
  }
 ],
 "metadata": {
  "kernelspec": {
   "display_name": "Python 3",
   "language": "python",
   "name": "python3"
  },
  "language_info": {
   "codemirror_mode": {
    "name": "ipython",
    "version": 3
   },
   "file_extension": ".py",
   "mimetype": "text/x-python",
   "name": "python",
   "nbconvert_exporter": "python",
   "pygments_lexer": "ipython3",
   "version": "3.5.2"
  }
 },
 "nbformat": 4,
 "nbformat_minor": 2
}
